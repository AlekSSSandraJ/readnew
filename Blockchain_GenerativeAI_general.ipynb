{
  "nbformat": 4,
  "nbformat_minor": 0,
  "metadata": {
    "colab": {
      "provenance": [],
      "authorship_tag": "ABX9TyNlBoRwHicinNTmkUGuu3jD",
      "include_colab_link": true
    },
    "kernelspec": {
      "name": "python3",
      "display_name": "Python 3"
    },
    "language_info": {
      "name": "python"
    }
  },
  "cells": [
    {
      "cell_type": "markdown",
      "metadata": {
        "id": "view-in-github",
        "colab_type": "text"
      },
      "source": [
        "<a href=\"https://colab.research.google.com/github/AlekSSSandraJ/readnew/blob/main/Blockchain_GenerativeAI_general.ipynb\" target=\"_parent\"><img src=\"https://colab.research.google.com/assets/colab-badge.svg\" alt=\"Open In Colab\"/></a>"
      ]
    },
    {
      "cell_type": "markdown",
      "source": [
        "# 🗒 Innovative Projects on Blockchains for Generative AI\n",
        "\n",
        "📌 Description\n",
        "\n",
        "Companies around the world are scrambling to incorporate generative AI chatbots like ChatGPT into their business models. However, together with the advantages, Generative AI models have many issues, which include AI misuse, toxicity, biases, and hallucinations, and many others. One of the promising solutions to address these issues are blockchains which can be deployed as a distributed ledger platform to improve the issues of generative AI applications. Unfortunately, research in this area is in its infancy, and there are many challenges that must be solved to apply blockchains for data management in generative AI. The objective of this project is to explore a feasible design of blockchains for generative AI. Up to 2 students (working on different topics) can be aligned with this project.\n",
        "\n",
        "📌 Deliverables\n",
        "* A report\n",
        "* A demonstration code\n"
      ],
      "metadata": {
        "id": "IBCzC-DQ93iz"
      }
    },
    {
      "cell_type": "code",
      "execution_count": null,
      "metadata": {
        "id": "g3Bg1L2L9R0Y"
      },
      "outputs": [],
      "source": []
    }
  ]
}